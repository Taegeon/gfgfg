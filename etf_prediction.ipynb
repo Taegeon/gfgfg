{
 "cells": [
  {
   "cell_type": "code",
   "execution_count": 2,
   "id": "949eaa0c",
   "metadata": {},
   "outputs": [
    {
     "name": "stdout",
     "output_type": "stream",
     "text": [
      "Collecting xgboost\n",
      "  Downloading xgboost-2.0.2-py3-none-macosx_12_0_arm64.whl (1.9 MB)\n",
      "     |████████████████████████████████| 1.9 MB 5.9 MB/s            \n",
      "\u001b[?25hRequirement already satisfied: scipy in /opt/homebrew/Cellar/jupyterlab/3.3.2/libexec/lib/python3.9/site-packages (from xgboost) (1.8.1)\n",
      "Requirement already satisfied: numpy in /opt/homebrew/Cellar/jupyterlab/3.3.2/libexec/lib/python3.9/site-packages (from xgboost) (1.24.4)\n",
      "Installing collected packages: xgboost\n",
      "Successfully installed xgboost-2.0.2\n",
      "\u001b[33mWARNING: You are using pip version 21.3.1; however, version 23.3.1 is available.\n",
      "You should consider upgrading via the '/opt/homebrew/Cellar/jupyterlab/3.3.2/libexec/bin/python3.9 -m pip install --upgrade pip' command.\u001b[0m\n",
      "Note: you may need to restart the kernel to use updated packages.\n"
     ]
    }
   ],
   "source": [
    "pip install xgboost"
   ]
  },
  {
   "cell_type": "code",
   "execution_count": 2,
   "id": "4591a7fa",
   "metadata": {},
   "outputs": [
    {
     "name": "stdout",
     "output_type": "stream",
     "text": [
      "Collecting seaborn\n",
      "  Downloading seaborn-0.13.0-py3-none-any.whl (294 kB)\n",
      "     |████████████████████████████████| 294 kB 5.5 MB/s            \n",
      "\u001b[?25hRequirement already satisfied: numpy!=1.24.0,>=1.20 in /opt/homebrew/Cellar/jupyterlab/3.3.2/libexec/lib/python3.9/site-packages (from seaborn) (1.24.4)\n",
      "Requirement already satisfied: matplotlib!=3.6.1,>=3.3 in /opt/homebrew/lib/python3.9/site-packages (from seaborn) (3.5.2)\n",
      "Requirement already satisfied: pandas>=1.2 in /opt/homebrew/lib/python3.9/site-packages (from seaborn) (1.4.2)\n",
      "Requirement already satisfied: kiwisolver>=1.0.1 in /opt/homebrew/lib/python3.9/site-packages (from matplotlib!=3.6.1,>=3.3->seaborn) (1.4.2)\n",
      "Requirement already satisfied: fonttools>=4.22.0 in /opt/homebrew/lib/python3.9/site-packages (from matplotlib!=3.6.1,>=3.3->seaborn) (4.33.3)\n",
      "Requirement already satisfied: cycler>=0.10 in /opt/homebrew/lib/python3.9/site-packages (from matplotlib!=3.6.1,>=3.3->seaborn) (0.11.0)\n",
      "Requirement already satisfied: packaging>=20.0 in /opt/homebrew/Cellar/jupyterlab/3.3.2/libexec/lib/python3.9/site-packages (from matplotlib!=3.6.1,>=3.3->seaborn) (21.3)\n",
      "Requirement already satisfied: pillow>=6.2.0 in /opt/homebrew/lib/python3.9/site-packages (from matplotlib!=3.6.1,>=3.3->seaborn) (9.1.0)\n",
      "Requirement already satisfied: pyparsing>=2.2.1 in /opt/homebrew/Cellar/jupyterlab/3.3.2/libexec/lib/python3.9/site-packages (from matplotlib!=3.6.1,>=3.3->seaborn) (3.0.7)\n",
      "Requirement already satisfied: python-dateutil>=2.7 in /opt/homebrew/Cellar/jupyterlab/3.3.2/libexec/lib/python3.9/site-packages (from matplotlib!=3.6.1,>=3.3->seaborn) (2.8.2)\n",
      "Requirement already satisfied: pytz>=2020.1 in /opt/homebrew/Cellar/jupyterlab/3.3.2/libexec/lib/python3.9/site-packages (from pandas>=1.2->seaborn) (2022.1)\n",
      "Requirement already satisfied: six>=1.5 in /opt/homebrew/Cellar/six/1.16.0_2/lib/python3.9/site-packages (from python-dateutil>=2.7->matplotlib!=3.6.1,>=3.3->seaborn) (1.16.0)\n",
      "Installing collected packages: seaborn\n",
      "Successfully installed seaborn-0.13.0\n",
      "\u001b[33mWARNING: You are using pip version 21.3.1; however, version 23.3.1 is available.\n",
      "You should consider upgrading via the '/opt/homebrew/Cellar/jupyterlab/3.3.2/libexec/bin/python3.9 -m pip install --upgrade pip' command.\u001b[0m\n",
      "Note: you may need to restart the kernel to use updated packages.\n"
     ]
    }
   ],
   "source": [
    "pip install seaborn"
   ]
  },
  {
   "cell_type": "code",
   "execution_count": 1,
   "id": "94ab063f",
   "metadata": {},
   "outputs": [],
   "source": [
    "import warnings\n",
    "warnings.filterwarnings('ignore')\n",
    "import glob\n",
    "import os\n",
    "import datetime\n",
    "import matplotlib.pyplot as plt\n",
    "import pandas as pd\n",
    "import numpy as np\n",
    "\n",
    "from sklearn import preprocessing\n",
    "from sklearn.preprocessing import StandardScaler\n",
    "from sklearn.model_selection import train_test_split\n",
    "from sklearn.model_selection import cross_validate\n",
    "from sklearn.model_selection import TimeSeriesSplit\n",
    "from sklearn.model_selection import GridSearchCV\n",
    "from sklearn.linear_model import LinearRegression\n",
    "from sklearn.ensemble import RandomForestClassifier\n",
    "from xgboost import XGBClassifier\n",
    "from xgboost import plot_importance\n",
    "from sklearn.metrics import precision_score, recall_score, confusion_matrix, roc_auc_score\n",
    "from sklearn.metrics import f1_score\n",
    "from sklearn.metrics import mean_squared_error, r2_score\n",
    "from sklearn.metrics import accuracy_score\n",
    "from sklearn import svm\n",
    "\n",
    "import seaborn as sns; sns.set()"
   ]
  },
  {
   "cell_type": "code",
   "execution_count": 4,
   "id": "a25e18d7",
   "metadata": {},
   "outputs": [],
   "source": [
    "df = pd.read_csv('./ETFs_main.csv')"
   ]
  },
  {
   "cell_type": "code",
   "execution_count": 5,
   "id": "1bfea148",
   "metadata": {},
   "outputs": [],
   "source": [
    "def moving_average(df, n):\n",
    "    MA = pd.Series(df['CLOSE_SPY'].rolling(n, min_periods=n).mean(), name='MA_' + str(n))\n",
    "    df = df.join(MA)\n",
    "    return df\n",
    "\n",
    "def volume_moving_average(df, n):\n",
    "    VMA = pd.Series(df['VOLUME'].rolling(n, min_periods=n).mean(), name='VMA_' + str(n))\n",
    "    df = df.join(VMA)\n",
    "    return df\n",
    "\n",
    "def relative_strength_index(df, n):\n",
    "    \"\"\"Calculate Relative Strength Index(RSI) for given data.\n",
    "    \n",
    "    :param df: pandas.DataFrame\n",
    "    :param n: \n",
    "    :return: pandas.DataFrame\n",
    "    \"\"\"\n",
    "    i = 0\n",
    "    UpI = [0]\n",
    "    DoI = [0]    \n",
    "    while i + 1 <= df.index[-1]:\n",
    "        UpMove = df.loc[i + 1, 'HIGH'] - df.loc[i, 'HIGH']\n",
    "        DoMove = df.loc[i, 'LOW'] - df.loc[i + 1, 'LOW']\n",
    "        if UpMove > DoMove and UpMove > 0:\n",
    "            UpD = UpMove\n",
    "        else:\n",
    "            UpD = 0\n",
    "        UpI.append(UpD)\n",
    "        if DoMove > UpMove and DoMove > 0:\n",
    "            DoD = DoMove\n",
    "        else:\n",
    "            DoD = 0\n",
    "        DoI.append(DoD)\n",
    "        i = i + 1\n",
    "    UpI = pd.Series(UpI)\n",
    "    DoI = pd.Series(DoI)\n",
    "    PosDI = pd.Series(UpI.ewm(span=n, min_periods=n).mean())\n",
    "    NegDI = pd.Series(DoI.ewm(span=n, min_periods=n).mean())\n",
    "    RSI = pd.Series(PosDI / (PosDI + NegDI), name='RSI_' + str(n))\n",
    "    df = df.join(RSI)\n",
    "    return df"
   ]
  },
  {
   "cell_type": "code",
   "execution_count": 6,
   "id": "afb5e7ac",
   "metadata": {},
   "outputs": [],
   "source": [
    "df = moving_average(df, 45)\n",
    "df = volume_moving_average(df, 45)\n",
    "df = relative_strength_index(df, 14)"
   ]
  },
  {
   "cell_type": "code",
   "execution_count": 7,
   "id": "cf0318b0",
   "metadata": {},
   "outputs": [
    {
     "data": {
      "text/plain": [
       "2727"
      ]
     },
     "execution_count": 7,
     "metadata": {},
     "output_type": "execute_result"
    }
   ],
   "source": [
    "df = df.set_index('Dates')\n",
    "df = df.dropna()\n",
    "len(df)"
   ]
  },
  {
   "cell_type": "code",
   "execution_count": 8,
   "id": "1b996504",
   "metadata": {},
   "outputs": [],
   "source": [
    "df['target'] = df['CLOSE_SPY'].pct_change()"
   ]
  },
  {
   "cell_type": "code",
   "execution_count": 9,
   "id": "1b3cebb1",
   "metadata": {},
   "outputs": [
    {
     "data": {
      "text/plain": [
       " 1    1471\n",
       "-1    1256\n",
       "Name: target, dtype: int64"
      ]
     },
     "execution_count": 9,
     "metadata": {},
     "output_type": "execute_result"
    }
   ],
   "source": [
    "df['target'] = np.where(df['target'] > 0 , 1, -1)\n",
    "df['target'].value_counts()"
   ]
  },
  {
   "cell_type": "code",
   "execution_count": 10,
   "id": "ac11f50f",
   "metadata": {},
   "outputs": [],
   "source": [
    "df['target'] = df['target'].shift(-1)"
   ]
  },
  {
   "cell_type": "code",
   "execution_count": 11,
   "id": "e278ff05",
   "metadata": {},
   "outputs": [
    {
     "data": {
      "text/plain": [
       "2726"
      ]
     },
     "execution_count": 11,
     "metadata": {},
     "output_type": "execute_result"
    }
   ],
   "source": [
    "df = df.dropna()\n",
    "len(df)"
   ]
  },
  {
   "cell_type": "code",
   "execution_count": 12,
   "id": "744e8a47",
   "metadata": {},
   "outputs": [],
   "source": [
    "df['target'] = df['target'].astype(np.int64)\n",
    "y_var = df['target']\n",
    "# deleting variables that are not using for prediction\n",
    "x_var = df.drop(['target', 'OPEN','HIGH','LOW', 'VOLUME','CLOSE_SPY'], axis=1) "
   ]
  },
  {
   "cell_type": "code",
   "execution_count": 13,
   "id": "ef31d2db",
   "metadata": {},
   "outputs": [
    {
     "data": {
      "text/html": [
       "<div>\n",
       "<style scoped>\n",
       "    .dataframe tbody tr th:only-of-type {\n",
       "        vertical-align: middle;\n",
       "    }\n",
       "\n",
       "    .dataframe tbody tr th {\n",
       "        vertical-align: top;\n",
       "    }\n",
       "\n",
       "    .dataframe thead th {\n",
       "        text-align: right;\n",
       "    }\n",
       "</style>\n",
       "<table border=\"1\" class=\"dataframe\">\n",
       "  <thead>\n",
       "    <tr style=\"text-align: right;\">\n",
       "      <th></th>\n",
       "      <th>CLOSE_GLD</th>\n",
       "      <th>CLOSE_FXY</th>\n",
       "      <th>CLOSE_T10Y2Y</th>\n",
       "      <th>CLOSE_TED</th>\n",
       "      <th>CLOSE_USO</th>\n",
       "      <th>CLOSE_UUP</th>\n",
       "      <th>CLOSE_VIX</th>\n",
       "      <th>CLOSE_VWO</th>\n",
       "      <th>MA_45</th>\n",
       "      <th>VMA_45</th>\n",
       "      <th>RSI_14</th>\n",
       "    </tr>\n",
       "    <tr>\n",
       "      <th>Dates</th>\n",
       "      <th></th>\n",
       "      <th></th>\n",
       "      <th></th>\n",
       "      <th></th>\n",
       "      <th></th>\n",
       "      <th></th>\n",
       "      <th></th>\n",
       "      <th></th>\n",
       "      <th></th>\n",
       "      <th></th>\n",
       "      <th></th>\n",
       "    </tr>\n",
       "  </thead>\n",
       "  <tbody>\n",
       "    <tr>\n",
       "      <th>2007-04-27</th>\n",
       "      <td>67.56</td>\n",
       "      <td>83.7300</td>\n",
       "      <td>2.4474</td>\n",
       "      <td>0.55</td>\n",
       "      <td>51.84</td>\n",
       "      <td>24.54</td>\n",
       "      <td>12.45</td>\n",
       "      <td>41.750</td>\n",
       "      <td>143.551556</td>\n",
       "      <td>1.106696e+08</td>\n",
       "      <td>0.670018</td>\n",
       "    </tr>\n",
       "    <tr>\n",
       "      <th>2007-04-30</th>\n",
       "      <td>67.09</td>\n",
       "      <td>83.7166</td>\n",
       "      <td>2.4361</td>\n",
       "      <td>0.57</td>\n",
       "      <td>51.24</td>\n",
       "      <td>24.49</td>\n",
       "      <td>14.22</td>\n",
       "      <td>40.935</td>\n",
       "      <td>143.601556</td>\n",
       "      <td>1.116466e+08</td>\n",
       "      <td>0.531751</td>\n",
       "    </tr>\n",
       "    <tr>\n",
       "      <th>2007-05-02</th>\n",
       "      <td>66.66</td>\n",
       "      <td>83.3800</td>\n",
       "      <td>2.4366</td>\n",
       "      <td>0.59</td>\n",
       "      <td>49.59</td>\n",
       "      <td>24.66</td>\n",
       "      <td>13.08</td>\n",
       "      <td>42.020</td>\n",
       "      <td>143.680667</td>\n",
       "      <td>1.121613e+08</td>\n",
       "      <td>0.554050</td>\n",
       "    </tr>\n",
       "    <tr>\n",
       "      <th>2007-05-03</th>\n",
       "      <td>67.49</td>\n",
       "      <td>83.1100</td>\n",
       "      <td>2.4346</td>\n",
       "      <td>0.60</td>\n",
       "      <td>49.28</td>\n",
       "      <td>24.69</td>\n",
       "      <td>13.09</td>\n",
       "      <td>42.435</td>\n",
       "      <td>143.780222</td>\n",
       "      <td>1.123421e+08</td>\n",
       "      <td>0.601028</td>\n",
       "    </tr>\n",
       "    <tr>\n",
       "      <th>2007-05-04</th>\n",
       "      <td>68.19</td>\n",
       "      <td>83.2300</td>\n",
       "      <td>2.4006</td>\n",
       "      <td>0.60</td>\n",
       "      <td>48.30</td>\n",
       "      <td>24.60</td>\n",
       "      <td>12.91</td>\n",
       "      <td>42.595</td>\n",
       "      <td>143.905111</td>\n",
       "      <td>1.128853e+08</td>\n",
       "      <td>0.665987</td>\n",
       "    </tr>\n",
       "  </tbody>\n",
       "</table>\n",
       "</div>"
      ],
      "text/plain": [
       "            CLOSE_GLD  CLOSE_FXY  CLOSE_T10Y2Y  CLOSE_TED  CLOSE_USO  \\\n",
       "Dates                                                                  \n",
       "2007-04-27      67.56    83.7300        2.4474       0.55      51.84   \n",
       "2007-04-30      67.09    83.7166        2.4361       0.57      51.24   \n",
       "2007-05-02      66.66    83.3800        2.4366       0.59      49.59   \n",
       "2007-05-03      67.49    83.1100        2.4346       0.60      49.28   \n",
       "2007-05-04      68.19    83.2300        2.4006       0.60      48.30   \n",
       "\n",
       "            CLOSE_UUP  CLOSE_VIX  CLOSE_VWO       MA_45        VMA_45  \\\n",
       "Dates                                                                   \n",
       "2007-04-27      24.54      12.45     41.750  143.551556  1.106696e+08   \n",
       "2007-04-30      24.49      14.22     40.935  143.601556  1.116466e+08   \n",
       "2007-05-02      24.66      13.08     42.020  143.680667  1.121613e+08   \n",
       "2007-05-03      24.69      13.09     42.435  143.780222  1.123421e+08   \n",
       "2007-05-04      24.60      12.91     42.595  143.905111  1.128853e+08   \n",
       "\n",
       "              RSI_14  \n",
       "Dates                 \n",
       "2007-04-27  0.670018  \n",
       "2007-04-30  0.531751  \n",
       "2007-05-02  0.554050  \n",
       "2007-05-03  0.601028  \n",
       "2007-05-04  0.665987  "
      ]
     },
     "execution_count": 13,
     "metadata": {},
     "output_type": "execute_result"
    }
   ],
   "source": [
    "x_var.head()"
   ]
  },
  {
   "cell_type": "code",
   "execution_count": 14,
   "id": "04470919",
   "metadata": {},
   "outputs": [
    {
     "name": "stdout",
     "output_type": "stream",
     "text": [
      "up/down ratio: 0.54\n"
     ]
    }
   ],
   "source": [
    "up=df[df['target']==1].target.count()\n",
    "total=df.target.count()\n",
    "print('up/down ratio: {0:.2f}'.format((up/total)))"
   ]
  },
  {
   "cell_type": "code",
   "execution_count": 15,
   "id": "3b55d1cf",
   "metadata": {},
   "outputs": [
    {
     "name": "stdout",
     "output_type": "stream",
     "text": [
      "train set label ratio\n",
      " 1    0.543501\n",
      "-1    0.456499\n",
      "Name: target, dtype: float64\n",
      "test set label ratio\n",
      " 1    0.530562\n",
      "-1    0.469438\n",
      "Name: target, dtype: float64\n"
     ]
    }
   ],
   "source": [
    "#in order not to mix the periods, shuffle=False\n",
    "X_train, X_test, y_train, y_test = train_test_split(x_var, \n",
    "                                                    y_var, \n",
    "                                                    test_size=0.3, \n",
    "                                                    shuffle=False, \n",
    "                                                    random_state=3)\n",
    "\n",
    "train_count = y_train.count()\n",
    "test_count = y_test.count()\n",
    "\n",
    "print('train set label ratio')\n",
    "print(y_train.value_counts()/train_count)\n",
    "print('test set label ratio')\n",
    "print(y_test.value_counts()/test_count)"
   ]
  },
  {
   "cell_type": "code",
   "execution_count": 23,
   "id": "c7a9594e",
   "metadata": {},
   "outputs": [],
   "source": [
    "n_estimators = range(10,200,10)\n",
    "\n",
    "params = {\n",
    "    'bootstrap': [True],\n",
    "    'n_estimators':n_estimators,\n",
    "    'max_depth':[4,6,8,10,12],\n",
    "    'min_samples_leaf': [2, 3, 4, 5],\n",
    "    'min_samples_split': [2, 4, 6, 8, 10],\n",
    "    'max_features':[4]\n",
    "}"
   ]
  },
  {
   "cell_type": "code",
   "execution_count": 24,
   "id": "c4abced2",
   "metadata": {},
   "outputs": [],
   "source": [
    "my_cv = TimeSeriesSplit(n_splits=5).split(X_train)"
   ]
  },
  {
   "cell_type": "code",
   "execution_count": 25,
   "id": "07cc2cc2",
   "metadata": {},
   "outputs": [
    {
     "data": {
      "text/plain": [
       "<generator object TimeSeriesSplit.split at 0x16924e190>"
      ]
     },
     "execution_count": 25,
     "metadata": {},
     "output_type": "execute_result"
    }
   ],
   "source": [
    "my_cv"
   ]
  },
  {
   "cell_type": "code",
   "execution_count": 26,
   "id": "c92ef78a",
   "metadata": {},
   "outputs": [],
   "source": [
    "clf = GridSearchCV(RandomForestClassifier(), params, cv=my_cv, n_jobs=-1)"
   ]
  },
  {
   "cell_type": "code",
   "execution_count": 27,
   "id": "ba6ef5ef",
   "metadata": {},
   "outputs": [
    {
     "data": {
      "text/html": [
       "<style>#sk-container-id-2 {color: black;background-color: white;}#sk-container-id-2 pre{padding: 0;}#sk-container-id-2 div.sk-toggleable {background-color: white;}#sk-container-id-2 label.sk-toggleable__label {cursor: pointer;display: block;width: 100%;margin-bottom: 0;padding: 0.3em;box-sizing: border-box;text-align: center;}#sk-container-id-2 label.sk-toggleable__label-arrow:before {content: \"▸\";float: left;margin-right: 0.25em;color: #696969;}#sk-container-id-2 label.sk-toggleable__label-arrow:hover:before {color: black;}#sk-container-id-2 div.sk-estimator:hover label.sk-toggleable__label-arrow:before {color: black;}#sk-container-id-2 div.sk-toggleable__content {max-height: 0;max-width: 0;overflow: hidden;text-align: left;background-color: #f0f8ff;}#sk-container-id-2 div.sk-toggleable__content pre {margin: 0.2em;color: black;border-radius: 0.25em;background-color: #f0f8ff;}#sk-container-id-2 input.sk-toggleable__control:checked~div.sk-toggleable__content {max-height: 200px;max-width: 100%;overflow: auto;}#sk-container-id-2 input.sk-toggleable__control:checked~label.sk-toggleable__label-arrow:before {content: \"▾\";}#sk-container-id-2 div.sk-estimator input.sk-toggleable__control:checked~label.sk-toggleable__label {background-color: #d4ebff;}#sk-container-id-2 div.sk-label input.sk-toggleable__control:checked~label.sk-toggleable__label {background-color: #d4ebff;}#sk-container-id-2 input.sk-hidden--visually {border: 0;clip: rect(1px 1px 1px 1px);clip: rect(1px, 1px, 1px, 1px);height: 1px;margin: -1px;overflow: hidden;padding: 0;position: absolute;width: 1px;}#sk-container-id-2 div.sk-estimator {font-family: monospace;background-color: #f0f8ff;border: 1px dotted black;border-radius: 0.25em;box-sizing: border-box;margin-bottom: 0.5em;}#sk-container-id-2 div.sk-estimator:hover {background-color: #d4ebff;}#sk-container-id-2 div.sk-parallel-item::after {content: \"\";width: 100%;border-bottom: 1px solid gray;flex-grow: 1;}#sk-container-id-2 div.sk-label:hover label.sk-toggleable__label {background-color: #d4ebff;}#sk-container-id-2 div.sk-serial::before {content: \"\";position: absolute;border-left: 1px solid gray;box-sizing: border-box;top: 0;bottom: 0;left: 50%;z-index: 0;}#sk-container-id-2 div.sk-serial {display: flex;flex-direction: column;align-items: center;background-color: white;padding-right: 0.2em;padding-left: 0.2em;position: relative;}#sk-container-id-2 div.sk-item {position: relative;z-index: 1;}#sk-container-id-2 div.sk-parallel {display: flex;align-items: stretch;justify-content: center;background-color: white;position: relative;}#sk-container-id-2 div.sk-item::before, #sk-container-id-2 div.sk-parallel-item::before {content: \"\";position: absolute;border-left: 1px solid gray;box-sizing: border-box;top: 0;bottom: 0;left: 50%;z-index: -1;}#sk-container-id-2 div.sk-parallel-item {display: flex;flex-direction: column;z-index: 1;position: relative;background-color: white;}#sk-container-id-2 div.sk-parallel-item:first-child::after {align-self: flex-end;width: 50%;}#sk-container-id-2 div.sk-parallel-item:last-child::after {align-self: flex-start;width: 50%;}#sk-container-id-2 div.sk-parallel-item:only-child::after {width: 0;}#sk-container-id-2 div.sk-dashed-wrapped {border: 1px dashed gray;margin: 0 0.4em 0.5em 0.4em;box-sizing: border-box;padding-bottom: 0.4em;background-color: white;}#sk-container-id-2 div.sk-label label {font-family: monospace;font-weight: bold;display: inline-block;line-height: 1.2em;}#sk-container-id-2 div.sk-label-container {text-align: center;}#sk-container-id-2 div.sk-container {/* jupyter's `normalize.less` sets `[hidden] { display: none; }` but bootstrap.min.css set `[hidden] { display: none !important; }` so we also need the `!important` here to be able to override the default hidden behavior on the sphinx rendered scikit-learn.org. See: https://github.com/scikit-learn/scikit-learn/issues/21755 */display: inline-block !important;position: relative;}#sk-container-id-2 div.sk-text-repr-fallback {display: none;}</style><div id=\"sk-container-id-2\" class=\"sk-top-container\"><div class=\"sk-text-repr-fallback\"><pre>GridSearchCV(cv=&lt;generator object TimeSeriesSplit.split at 0x16924e190&gt;,\n",
       "             estimator=RandomForestClassifier(), n_jobs=-1,\n",
       "             param_grid={&#x27;bootstrap&#x27;: [True], &#x27;max_depth&#x27;: [4, 6, 8, 10, 12],\n",
       "                         &#x27;max_features&#x27;: [4], &#x27;min_samples_leaf&#x27;: [2, 3, 4, 5],\n",
       "                         &#x27;min_samples_split&#x27;: [2, 4, 6, 8, 10],\n",
       "                         &#x27;n_estimators&#x27;: range(10, 200, 10)})</pre><b>In a Jupyter environment, please rerun this cell to show the HTML representation or trust the notebook. <br />On GitHub, the HTML representation is unable to render, please try loading this page with nbviewer.org.</b></div><div class=\"sk-container\" hidden><div class=\"sk-item sk-dashed-wrapped\"><div class=\"sk-label-container\"><div class=\"sk-label sk-toggleable\"><input class=\"sk-toggleable__control sk-hidden--visually\" id=\"sk-estimator-id-2\" type=\"checkbox\" ><label for=\"sk-estimator-id-2\" class=\"sk-toggleable__label sk-toggleable__label-arrow\">GridSearchCV</label><div class=\"sk-toggleable__content\"><pre>GridSearchCV(cv=&lt;generator object TimeSeriesSplit.split at 0x16924e190&gt;,\n",
       "             estimator=RandomForestClassifier(), n_jobs=-1,\n",
       "             param_grid={&#x27;bootstrap&#x27;: [True], &#x27;max_depth&#x27;: [4, 6, 8, 10, 12],\n",
       "                         &#x27;max_features&#x27;: [4], &#x27;min_samples_leaf&#x27;: [2, 3, 4, 5],\n",
       "                         &#x27;min_samples_split&#x27;: [2, 4, 6, 8, 10],\n",
       "                         &#x27;n_estimators&#x27;: range(10, 200, 10)})</pre></div></div></div><div class=\"sk-parallel\"><div class=\"sk-parallel-item\"><div class=\"sk-item\"><div class=\"sk-label-container\"><div class=\"sk-label sk-toggleable\"><input class=\"sk-toggleable__control sk-hidden--visually\" id=\"sk-estimator-id-3\" type=\"checkbox\" ><label for=\"sk-estimator-id-3\" class=\"sk-toggleable__label sk-toggleable__label-arrow\">estimator: RandomForestClassifier</label><div class=\"sk-toggleable__content\"><pre>RandomForestClassifier()</pre></div></div></div><div class=\"sk-serial\"><div class=\"sk-item\"><div class=\"sk-estimator sk-toggleable\"><input class=\"sk-toggleable__control sk-hidden--visually\" id=\"sk-estimator-id-4\" type=\"checkbox\" ><label for=\"sk-estimator-id-4\" class=\"sk-toggleable__label sk-toggleable__label-arrow\">RandomForestClassifier</label><div class=\"sk-toggleable__content\"><pre>RandomForestClassifier()</pre></div></div></div></div></div></div></div></div></div></div>"
      ],
      "text/plain": [
       "GridSearchCV(cv=<generator object TimeSeriesSplit.split at 0x16924e190>,\n",
       "             estimator=RandomForestClassifier(), n_jobs=-1,\n",
       "             param_grid={'bootstrap': [True], 'max_depth': [4, 6, 8, 10, 12],\n",
       "                         'max_features': [4], 'min_samples_leaf': [2, 3, 4, 5],\n",
       "                         'min_samples_split': [2, 4, 6, 8, 10],\n",
       "                         'n_estimators': range(10, 200, 10)})"
      ]
     },
     "execution_count": 27,
     "metadata": {},
     "output_type": "execute_result"
    }
   ],
   "source": [
    "clf"
   ]
  },
  {
   "cell_type": "code",
   "execution_count": 28,
   "id": "a05a3cd9",
   "metadata": {},
   "outputs": [],
   "source": [
    "import time"
   ]
  },
  {
   "cell_type": "code",
   "execution_count": 29,
   "id": "d1055fd2",
   "metadata": {},
   "outputs": [
    {
     "name": "stdout",
     "output_type": "stream",
     "text": [
      "219.15034890174866  seconds consumed\n"
     ]
    }
   ],
   "source": [
    "start_time = time.time()\n",
    "clf.fit(X_train, y_train)\n",
    "print(time.time() - start_time,\" seconds consumed\")"
   ]
  },
  {
   "cell_type": "code",
   "execution_count": 30,
   "id": "54e02576",
   "metadata": {},
   "outputs": [
    {
     "name": "stdout",
     "output_type": "stream",
     "text": [
      "best parameter:\n",
      " {'bootstrap': True, 'max_depth': 6, 'max_features': 4, 'min_samples_leaf': 5, 'min_samples_split': 4, 'n_estimators': 190}\n",
      "best prediction:0.5572\n"
     ]
    }
   ],
   "source": [
    "print('best parameter:\\n', clf.best_params_)\n",
    "print('best prediction:{0:.4f}'.format(clf.best_score_))"
   ]
  },
  {
   "cell_type": "code",
   "execution_count": 31,
   "id": "0e78bc49",
   "metadata": {},
   "outputs": [
    {
     "name": "stdout",
     "output_type": "stream",
     "text": [
      "accuracy:0.4951\n",
      "confusion matrix\n",
      "accuracy:0.4951,precision:0.5393,recall:0.3318,F1:0.4108,ROC AUC score:0.5057\n"
     ]
    }
   ],
   "source": [
    "pred_con = clf.predict(X_test)\n",
    "accuracy_con = accuracy_score(y_test, pred_con)\n",
    "print('accuracy:{0:.4f}'.format(accuracy_con))\n",
    "get_confusion_matrix(y_test, pred_con)"
   ]
  },
  {
   "cell_type": "code",
   "execution_count": 37,
   "id": "b8c11b66",
   "metadata": {},
   "outputs": [
    {
     "data": {
      "text/html": [
       "<div>\n",
       "<style scoped>\n",
       "    .dataframe tbody tr th:only-of-type {\n",
       "        vertical-align: middle;\n",
       "    }\n",
       "\n",
       "    .dataframe tbody tr th {\n",
       "        vertical-align: top;\n",
       "    }\n",
       "\n",
       "    .dataframe thead th {\n",
       "        text-align: right;\n",
       "    }\n",
       "</style>\n",
       "<table border=\"1\" class=\"dataframe\">\n",
       "  <thead>\n",
       "    <tr style=\"text-align: right;\">\n",
       "      <th></th>\n",
       "      <th>CLOSE_SPY</th>\n",
       "      <th>OPEN</th>\n",
       "      <th>HIGH</th>\n",
       "      <th>LOW</th>\n",
       "      <th>VOLUME</th>\n",
       "      <th>CLOSE_GLD</th>\n",
       "      <th>CLOSE_FXY</th>\n",
       "      <th>CLOSE_T10Y2Y</th>\n",
       "      <th>CLOSE_TED</th>\n",
       "      <th>CLOSE_USO</th>\n",
       "      <th>CLOSE_UUP</th>\n",
       "      <th>CLOSE_VIX</th>\n",
       "      <th>CLOSE_VWO</th>\n",
       "      <th>MA_45</th>\n",
       "      <th>VMA_45</th>\n",
       "      <th>RSI_14</th>\n",
       "      <th>target</th>\n",
       "    </tr>\n",
       "    <tr>\n",
       "      <th>Dates</th>\n",
       "      <th></th>\n",
       "      <th></th>\n",
       "      <th></th>\n",
       "      <th></th>\n",
       "      <th></th>\n",
       "      <th></th>\n",
       "      <th></th>\n",
       "      <th></th>\n",
       "      <th></th>\n",
       "      <th></th>\n",
       "      <th></th>\n",
       "      <th></th>\n",
       "      <th></th>\n",
       "      <th></th>\n",
       "      <th></th>\n",
       "      <th></th>\n",
       "      <th></th>\n",
       "    </tr>\n",
       "  </thead>\n",
       "  <tbody>\n",
       "    <tr>\n",
       "      <th>2007-04-27</th>\n",
       "      <td>149.53</td>\n",
       "      <td>149.09</td>\n",
       "      <td>149.740</td>\n",
       "      <td>149.0</td>\n",
       "      <td>106984094.0</td>\n",
       "      <td>67.56</td>\n",
       "      <td>83.7300</td>\n",
       "      <td>2.4474</td>\n",
       "      <td>0.55</td>\n",
       "      <td>51.84</td>\n",
       "      <td>24.54</td>\n",
       "      <td>12.45</td>\n",
       "      <td>41.750</td>\n",
       "      <td>143.551556</td>\n",
       "      <td>1.106696e+08</td>\n",
       "      <td>0.670018</td>\n",
       "      <td>-1</td>\n",
       "    </tr>\n",
       "    <tr>\n",
       "      <th>2007-04-30</th>\n",
       "      <td>148.29</td>\n",
       "      <td>149.64</td>\n",
       "      <td>149.740</td>\n",
       "      <td>148.0</td>\n",
       "      <td>100874203.0</td>\n",
       "      <td>67.09</td>\n",
       "      <td>83.7166</td>\n",
       "      <td>2.4361</td>\n",
       "      <td>0.57</td>\n",
       "      <td>51.24</td>\n",
       "      <td>24.49</td>\n",
       "      <td>14.22</td>\n",
       "      <td>40.935</td>\n",
       "      <td>143.601556</td>\n",
       "      <td>1.116466e+08</td>\n",
       "      <td>0.531751</td>\n",
       "      <td>1</td>\n",
       "    </tr>\n",
       "    <tr>\n",
       "      <th>2007-05-02</th>\n",
       "      <td>149.54</td>\n",
       "      <td>148.90</td>\n",
       "      <td>149.950</td>\n",
       "      <td>149.0</td>\n",
       "      <td>87129805.0</td>\n",
       "      <td>66.66</td>\n",
       "      <td>83.3800</td>\n",
       "      <td>2.4366</td>\n",
       "      <td>0.59</td>\n",
       "      <td>49.59</td>\n",
       "      <td>24.66</td>\n",
       "      <td>13.08</td>\n",
       "      <td>42.020</td>\n",
       "      <td>143.680667</td>\n",
       "      <td>1.121613e+08</td>\n",
       "      <td>0.554050</td>\n",
       "      <td>1</td>\n",
       "    </tr>\n",
       "    <tr>\n",
       "      <th>2007-05-03</th>\n",
       "      <td>150.35</td>\n",
       "      <td>149.97</td>\n",
       "      <td>150.400</td>\n",
       "      <td>149.0</td>\n",
       "      <td>87204945.0</td>\n",
       "      <td>67.49</td>\n",
       "      <td>83.1100</td>\n",
       "      <td>2.4346</td>\n",
       "      <td>0.60</td>\n",
       "      <td>49.28</td>\n",
       "      <td>24.69</td>\n",
       "      <td>13.09</td>\n",
       "      <td>42.435</td>\n",
       "      <td>143.780222</td>\n",
       "      <td>1.123421e+08</td>\n",
       "      <td>0.601028</td>\n",
       "      <td>1</td>\n",
       "    </tr>\n",
       "    <tr>\n",
       "      <th>2007-05-04</th>\n",
       "      <td>150.92</td>\n",
       "      <td>150.75</td>\n",
       "      <td>151.120</td>\n",
       "      <td>150.0</td>\n",
       "      <td>96408930.0</td>\n",
       "      <td>68.19</td>\n",
       "      <td>83.2300</td>\n",
       "      <td>2.4006</td>\n",
       "      <td>0.60</td>\n",
       "      <td>48.30</td>\n",
       "      <td>24.60</td>\n",
       "      <td>12.91</td>\n",
       "      <td>42.595</td>\n",
       "      <td>143.905111</td>\n",
       "      <td>1.128853e+08</td>\n",
       "      <td>0.665987</td>\n",
       "      <td>-1</td>\n",
       "    </tr>\n",
       "    <tr>\n",
       "      <th>...</th>\n",
       "      <td>...</td>\n",
       "      <td>...</td>\n",
       "      <td>...</td>\n",
       "      <td>...</td>\n",
       "      <td>...</td>\n",
       "      <td>...</td>\n",
       "      <td>...</td>\n",
       "      <td>...</td>\n",
       "      <td>...</td>\n",
       "      <td>...</td>\n",
       "      <td>...</td>\n",
       "      <td>...</td>\n",
       "      <td>...</td>\n",
       "      <td>...</td>\n",
       "      <td>...</td>\n",
       "      <td>...</td>\n",
       "      <td>...</td>\n",
       "    </tr>\n",
       "    <tr>\n",
       "      <th>2018-12-19</th>\n",
       "      <td>251.26</td>\n",
       "      <td>255.17</td>\n",
       "      <td>259.400</td>\n",
       "      <td>249.0</td>\n",
       "      <td>214992797.0</td>\n",
       "      <td>117.43</td>\n",
       "      <td>84.8300</td>\n",
       "      <td>1.7824</td>\n",
       "      <td>0.44</td>\n",
       "      <td>10.02</td>\n",
       "      <td>25.97</td>\n",
       "      <td>25.58</td>\n",
       "      <td>37.890</td>\n",
       "      <td>270.407333</td>\n",
       "      <td>1.225288e+08</td>\n",
       "      <td>0.201733</td>\n",
       "      <td>-1</td>\n",
       "    </tr>\n",
       "    <tr>\n",
       "      <th>2018-12-20</th>\n",
       "      <td>247.17</td>\n",
       "      <td>249.86</td>\n",
       "      <td>251.620</td>\n",
       "      <td>245.0</td>\n",
       "      <td>252053406.0</td>\n",
       "      <td>119.24</td>\n",
       "      <td>85.8700</td>\n",
       "      <td>1.7807</td>\n",
       "      <td>0.48</td>\n",
       "      <td>9.72</td>\n",
       "      <td>25.77</td>\n",
       "      <td>28.38</td>\n",
       "      <td>38.180</td>\n",
       "      <td>269.767778</td>\n",
       "      <td>1.240592e+08</td>\n",
       "      <td>0.172439</td>\n",
       "      <td>-1</td>\n",
       "    </tr>\n",
       "    <tr>\n",
       "      <th>2018-12-21</th>\n",
       "      <td>240.70</td>\n",
       "      <td>246.74</td>\n",
       "      <td>249.710</td>\n",
       "      <td>240.0</td>\n",
       "      <td>255345594.0</td>\n",
       "      <td>118.72</td>\n",
       "      <td>85.8700</td>\n",
       "      <td>1.7651</td>\n",
       "      <td>0.48</td>\n",
       "      <td>9.57</td>\n",
       "      <td>25.94</td>\n",
       "      <td>30.11</td>\n",
       "      <td>37.870</td>\n",
       "      <td>269.018889</td>\n",
       "      <td>1.274610e+08</td>\n",
       "      <td>0.142578</td>\n",
       "      <td>-1</td>\n",
       "    </tr>\n",
       "    <tr>\n",
       "      <th>2018-12-24</th>\n",
       "      <td>234.34</td>\n",
       "      <td>239.04</td>\n",
       "      <td>240.836</td>\n",
       "      <td>234.0</td>\n",
       "      <td>147311594.0</td>\n",
       "      <td>120.02</td>\n",
       "      <td>86.5500</td>\n",
       "      <td>1.7505</td>\n",
       "      <td>0.40</td>\n",
       "      <td>9.29</td>\n",
       "      <td>25.55</td>\n",
       "      <td>36.07</td>\n",
       "      <td>37.320</td>\n",
       "      <td>267.995333</td>\n",
       "      <td>1.281067e+08</td>\n",
       "      <td>0.115003</td>\n",
       "      <td>1</td>\n",
       "    </tr>\n",
       "    <tr>\n",
       "      <th>2018-12-27</th>\n",
       "      <td>248.07</td>\n",
       "      <td>242.57</td>\n",
       "      <td>248.290</td>\n",
       "      <td>239.0</td>\n",
       "      <td>186267297.0</td>\n",
       "      <td>120.57</td>\n",
       "      <td>86.0000</td>\n",
       "      <td>1.7581</td>\n",
       "      <td>0.44</td>\n",
       "      <td>9.62</td>\n",
       "      <td>25.57</td>\n",
       "      <td>29.96</td>\n",
       "      <td>37.900</td>\n",
       "      <td>267.275778</td>\n",
       "      <td>1.297876e+08</td>\n",
       "      <td>0.307099</td>\n",
       "      <td>-1</td>\n",
       "    </tr>\n",
       "  </tbody>\n",
       "</table>\n",
       "<p>2726 rows × 17 columns</p>\n",
       "</div>"
      ],
      "text/plain": [
       "            CLOSE_SPY    OPEN     HIGH    LOW       VOLUME  CLOSE_GLD  \\\n",
       "Dates                                                                   \n",
       "2007-04-27     149.53  149.09  149.740  149.0  106984094.0      67.56   \n",
       "2007-04-30     148.29  149.64  149.740  148.0  100874203.0      67.09   \n",
       "2007-05-02     149.54  148.90  149.950  149.0   87129805.0      66.66   \n",
       "2007-05-03     150.35  149.97  150.400  149.0   87204945.0      67.49   \n",
       "2007-05-04     150.92  150.75  151.120  150.0   96408930.0      68.19   \n",
       "...               ...     ...      ...    ...          ...        ...   \n",
       "2018-12-19     251.26  255.17  259.400  249.0  214992797.0     117.43   \n",
       "2018-12-20     247.17  249.86  251.620  245.0  252053406.0     119.24   \n",
       "2018-12-21     240.70  246.74  249.710  240.0  255345594.0     118.72   \n",
       "2018-12-24     234.34  239.04  240.836  234.0  147311594.0     120.02   \n",
       "2018-12-27     248.07  242.57  248.290  239.0  186267297.0     120.57   \n",
       "\n",
       "            CLOSE_FXY  CLOSE_T10Y2Y  CLOSE_TED  CLOSE_USO  CLOSE_UUP  \\\n",
       "Dates                                                                  \n",
       "2007-04-27    83.7300        2.4474       0.55      51.84      24.54   \n",
       "2007-04-30    83.7166        2.4361       0.57      51.24      24.49   \n",
       "2007-05-02    83.3800        2.4366       0.59      49.59      24.66   \n",
       "2007-05-03    83.1100        2.4346       0.60      49.28      24.69   \n",
       "2007-05-04    83.2300        2.4006       0.60      48.30      24.60   \n",
       "...               ...           ...        ...        ...        ...   \n",
       "2018-12-19    84.8300        1.7824       0.44      10.02      25.97   \n",
       "2018-12-20    85.8700        1.7807       0.48       9.72      25.77   \n",
       "2018-12-21    85.8700        1.7651       0.48       9.57      25.94   \n",
       "2018-12-24    86.5500        1.7505       0.40       9.29      25.55   \n",
       "2018-12-27    86.0000        1.7581       0.44       9.62      25.57   \n",
       "\n",
       "            CLOSE_VIX  CLOSE_VWO       MA_45        VMA_45    RSI_14  target  \n",
       "Dates                                                                         \n",
       "2007-04-27      12.45     41.750  143.551556  1.106696e+08  0.670018      -1  \n",
       "2007-04-30      14.22     40.935  143.601556  1.116466e+08  0.531751       1  \n",
       "2007-05-02      13.08     42.020  143.680667  1.121613e+08  0.554050       1  \n",
       "2007-05-03      13.09     42.435  143.780222  1.123421e+08  0.601028       1  \n",
       "2007-05-04      12.91     42.595  143.905111  1.128853e+08  0.665987      -1  \n",
       "...               ...        ...         ...           ...       ...     ...  \n",
       "2018-12-19      25.58     37.890  270.407333  1.225288e+08  0.201733      -1  \n",
       "2018-12-20      28.38     38.180  269.767778  1.240592e+08  0.172439      -1  \n",
       "2018-12-21      30.11     37.870  269.018889  1.274610e+08  0.142578      -1  \n",
       "2018-12-24      36.07     37.320  267.995333  1.281067e+08  0.115003       1  \n",
       "2018-12-27      29.96     37.900  267.275778  1.297876e+08  0.307099      -1  \n",
       "\n",
       "[2726 rows x 17 columns]"
      ]
     },
     "execution_count": 37,
     "metadata": {},
     "output_type": "execute_result"
    }
   ],
   "source": [
    "df"
   ]
  }
 ],
 "metadata": {
  "kernelspec": {
   "display_name": "Python 3 (ipykernel)",
   "language": "python",
   "name": "python3"
  },
  "language_info": {
   "codemirror_mode": {
    "name": "ipython",
    "version": 3
   },
   "file_extension": ".py",
   "mimetype": "text/x-python",
   "name": "python",
   "nbconvert_exporter": "python",
   "pygments_lexer": "ipython3",
   "version": "3.9.12"
  }
 },
 "nbformat": 4,
 "nbformat_minor": 5
}
