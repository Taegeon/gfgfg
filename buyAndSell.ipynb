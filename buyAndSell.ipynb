{
 "cells": [
  {
   "cell_type": "code",
   "execution_count": 3,
   "id": "b4cb726f",
   "metadata": {},
   "outputs": [
    {
     "data": {
      "text/html": [
       "<div>\n",
       "<style scoped>\n",
       "    .dataframe tbody tr th:only-of-type {\n",
       "        vertical-align: middle;\n",
       "    }\n",
       "\n",
       "    .dataframe tbody tr th {\n",
       "        vertical-align: top;\n",
       "    }\n",
       "\n",
       "    .dataframe thead th {\n",
       "        text-align: right;\n",
       "    }\n",
       "</style>\n",
       "<table border=\"1\" class=\"dataframe\">\n",
       "  <thead>\n",
       "    <tr style=\"text-align: right;\">\n",
       "      <th></th>\n",
       "      <th>Open</th>\n",
       "      <th>High</th>\n",
       "      <th>Low</th>\n",
       "      <th>Close</th>\n",
       "      <th>Adj Close</th>\n",
       "      <th>Volume</th>\n",
       "    </tr>\n",
       "    <tr>\n",
       "      <th>Date</th>\n",
       "      <th></th>\n",
       "      <th></th>\n",
       "      <th></th>\n",
       "      <th></th>\n",
       "      <th></th>\n",
       "      <th></th>\n",
       "    </tr>\n",
       "  </thead>\n",
       "  <tbody>\n",
       "    <tr>\n",
       "      <th>2022-11-28</th>\n",
       "      <td>179.960007</td>\n",
       "      <td>188.500000</td>\n",
       "      <td>179.000000</td>\n",
       "      <td>182.919998</td>\n",
       "      <td>182.919998</td>\n",
       "      <td>92905200</td>\n",
       "    </tr>\n",
       "    <tr>\n",
       "      <th>2022-11-29</th>\n",
       "      <td>184.990005</td>\n",
       "      <td>186.380005</td>\n",
       "      <td>178.750000</td>\n",
       "      <td>180.830002</td>\n",
       "      <td>180.830002</td>\n",
       "      <td>83357100</td>\n",
       "    </tr>\n",
       "    <tr>\n",
       "      <th>2022-11-30</th>\n",
       "      <td>182.429993</td>\n",
       "      <td>194.759995</td>\n",
       "      <td>180.630005</td>\n",
       "      <td>194.699997</td>\n",
       "      <td>194.699997</td>\n",
       "      <td>109186400</td>\n",
       "    </tr>\n",
       "    <tr>\n",
       "      <th>2022-12-01</th>\n",
       "      <td>197.080002</td>\n",
       "      <td>198.919998</td>\n",
       "      <td>191.800003</td>\n",
       "      <td>194.699997</td>\n",
       "      <td>194.699997</td>\n",
       "      <td>80046200</td>\n",
       "    </tr>\n",
       "    <tr>\n",
       "      <th>2022-12-02</th>\n",
       "      <td>191.779999</td>\n",
       "      <td>196.250000</td>\n",
       "      <td>191.110001</td>\n",
       "      <td>194.860001</td>\n",
       "      <td>194.860001</td>\n",
       "      <td>73645900</td>\n",
       "    </tr>\n",
       "  </tbody>\n",
       "</table>\n",
       "</div>"
      ],
      "text/plain": [
       "                  Open        High         Low       Close   Adj Close  \\\n",
       "Date                                                                     \n",
       "2022-11-28  179.960007  188.500000  179.000000  182.919998  182.919998   \n",
       "2022-11-29  184.990005  186.380005  178.750000  180.830002  180.830002   \n",
       "2022-11-30  182.429993  194.759995  180.630005  194.699997  194.699997   \n",
       "2022-12-01  197.080002  198.919998  191.800003  194.699997  194.699997   \n",
       "2022-12-02  191.779999  196.250000  191.110001  194.860001  194.860001   \n",
       "\n",
       "               Volume  \n",
       "Date                   \n",
       "2022-11-28   92905200  \n",
       "2022-11-29   83357100  \n",
       "2022-11-30  109186400  \n",
       "2022-12-01   80046200  \n",
       "2022-12-02   73645900  "
      ]
     },
     "execution_count": 3,
     "metadata": {},
     "output_type": "execute_result"
    }
   ],
   "source": [
    "import pandas as pd\n",
    "import numpy as np\n",
    "df = pd.read_csv('./TSLA.csv', index_col='Date', parse_dates=['Date'])\n",
    "df.head()"
   ]
  },
  {
   "cell_type": "code",
   "execution_count": 6,
   "id": "c5ba3e50",
   "metadata": {},
   "outputs": [
    {
     "data": {
      "text/html": [
       "<div>\n",
       "<style scoped>\n",
       "    .dataframe tbody tr th:only-of-type {\n",
       "        vertical-align: middle;\n",
       "    }\n",
       "\n",
       "    .dataframe tbody tr th {\n",
       "        vertical-align: top;\n",
       "    }\n",
       "\n",
       "    .dataframe thead th {\n",
       "        text-align: right;\n",
       "    }\n",
       "</style>\n",
       "<table border=\"1\" class=\"dataframe\">\n",
       "  <thead>\n",
       "    <tr style=\"text-align: right;\">\n",
       "      <th></th>\n",
       "      <th>Open</th>\n",
       "      <th>High</th>\n",
       "      <th>Low</th>\n",
       "      <th>Close</th>\n",
       "      <th>Adj Close</th>\n",
       "      <th>Volume</th>\n",
       "    </tr>\n",
       "    <tr>\n",
       "      <th>Date</th>\n",
       "      <th></th>\n",
       "      <th></th>\n",
       "      <th></th>\n",
       "      <th></th>\n",
       "      <th></th>\n",
       "      <th></th>\n",
       "    </tr>\n",
       "  </thead>\n",
       "  <tbody>\n",
       "  </tbody>\n",
       "</table>\n",
       "</div>"
      ],
      "text/plain": [
       "Empty DataFrame\n",
       "Columns: [Open, High, Low, Close, Adj Close, Volume]\n",
       "Index: []"
      ]
     },
     "execution_count": 6,
     "metadata": {},
     "output_type": "execute_result"
    }
   ],
   "source": [
    "df[df.isin([np.nan, np.inf, -np.inf]).any(1)]"
   ]
  },
  {
   "cell_type": "code",
   "execution_count": 8,
   "id": "9a0b1f05",
   "metadata": {},
   "outputs": [
    {
     "data": {
      "text/plain": [
       "<AxesSubplot:xlabel='Date'>"
      ]
     },
     "execution_count": 8,
     "metadata": {},
     "output_type": "execute_result"
    },
    {
     "data": {
      "image/png": "[encoded data removed]",
      "text/plain": [
       "<Figure size 432x288 with 1 Axes>"
      ]
     },
     "metadata": {
      "needs_background": "light"
     },
     "output_type": "display_data"
    },
    {
     "data": {
      "image/png": "[encoded data removed]",
      "text/plain": [
       "<Figure size 432x288 with 1 Axes>"
      ]
     },
     "metadata": {
      "needs_background": "light"
     },
     "output_type": "display_data"
    }
   ],
   "source": [
    "price_df = df.loc[:,['Adj Close']].copy()\n",
    "price_df.plot()\n",
    "price_df.loc['2023-01-01':'2023-02-01'].plot()"
   ]
  },
  {
   "cell_type": "code",
   "execution_count": 13,
   "id": "510f4f9f",
   "metadata": {},
   "outputs": [
    {
     "data": {
      "text/html": [
       "<div>\n",
       "<style scoped>\n",
       "    .dataframe tbody tr th:only-of-type {\n",
       "        vertical-align: middle;\n",
       "    }\n",
       "\n",
       "    .dataframe tbody tr th {\n",
       "        vertical-align: top;\n",
       "    }\n",
       "\n",
       "    .dataframe thead th {\n",
       "        text-align: right;\n",
       "    }\n",
       "</style>\n",
       "<table border=\"1\" class=\"dataframe\">\n",
       "  <thead>\n",
       "    <tr style=\"text-align: right;\">\n",
       "      <th></th>\n",
       "      <th>Adj Close</th>\n",
       "      <th>daily_profit</th>\n",
       "      <th>st_profit</th>\n",
       "    </tr>\n",
       "    <tr>\n",
       "      <th>Date</th>\n",
       "      <th></th>\n",
       "      <th></th>\n",
       "      <th></th>\n",
       "    </tr>\n",
       "  </thead>\n",
       "  <tbody>\n",
       "    <tr>\n",
       "      <th>2022-11-28</th>\n",
       "      <td>182.919998</td>\n",
       "      <td>NaN</td>\n",
       "      <td>NaN</td>\n",
       "    </tr>\n",
       "    <tr>\n",
       "      <th>2022-11-29</th>\n",
       "      <td>180.830002</td>\n",
       "      <td>-0.011426</td>\n",
       "      <td>0.988574</td>\n",
       "    </tr>\n",
       "    <tr>\n",
       "      <th>2022-11-30</th>\n",
       "      <td>194.699997</td>\n",
       "      <td>0.076702</td>\n",
       "      <td>1.064400</td>\n",
       "    </tr>\n",
       "    <tr>\n",
       "      <th>2022-12-01</th>\n",
       "      <td>194.699997</td>\n",
       "      <td>0.000000</td>\n",
       "      <td>1.064400</td>\n",
       "    </tr>\n",
       "    <tr>\n",
       "      <th>2022-12-02</th>\n",
       "      <td>194.860001</td>\n",
       "      <td>0.000822</td>\n",
       "      <td>1.065274</td>\n",
       "    </tr>\n",
       "    <tr>\n",
       "      <th>2022-12-05</th>\n",
       "      <td>182.449997</td>\n",
       "      <td>-0.063687</td>\n",
       "      <td>0.997431</td>\n",
       "    </tr>\n",
       "    <tr>\n",
       "      <th>2022-12-06</th>\n",
       "      <td>179.820007</td>\n",
       "      <td>-0.014415</td>\n",
       "      <td>0.983053</td>\n",
       "    </tr>\n",
       "    <tr>\n",
       "      <th>2022-12-07</th>\n",
       "      <td>174.039993</td>\n",
       "      <td>-0.032143</td>\n",
       "      <td>0.951454</td>\n",
       "    </tr>\n",
       "    <tr>\n",
       "      <th>2022-12-08</th>\n",
       "      <td>173.440002</td>\n",
       "      <td>-0.003447</td>\n",
       "      <td>0.948174</td>\n",
       "    </tr>\n",
       "    <tr>\n",
       "      <th>2022-12-09</th>\n",
       "      <td>179.050003</td>\n",
       "      <td>0.032345</td>\n",
       "      <td>0.978843</td>\n",
       "    </tr>\n",
       "  </tbody>\n",
       "</table>\n",
       "</div>"
      ],
      "text/plain": [
       "             Adj Close  daily_profit  st_profit\n",
       "Date                                           \n",
       "2022-11-28  182.919998           NaN        NaN\n",
       "2022-11-29  180.830002     -0.011426   0.988574\n",
       "2022-11-30  194.699997      0.076702   1.064400\n",
       "2022-12-01  194.699997      0.000000   1.064400\n",
       "2022-12-02  194.860001      0.000822   1.065274\n",
       "2022-12-05  182.449997     -0.063687   0.997431\n",
       "2022-12-06  179.820007     -0.014415   0.983053\n",
       "2022-12-07  174.039993     -0.032143   0.951454\n",
       "2022-12-08  173.440002     -0.003447   0.948174\n",
       "2022-12-09  179.050003      0.032345   0.978843"
      ]
     },
     "execution_count": 13,
     "metadata": {},
     "output_type": "execute_result"
    }
   ],
   "source": [
    "price_df['daily_profit'] = price_df['Adj Close'].pct_change() #calculating daily profit\n",
    "price_df['st_profit'] = (1+price_df['daily_profit']).cumprod()\n",
    "price_df.head(10)"
   ]
  },
  {
   "cell_type": "code",
   "execution_count": 17,
   "id": "75b3533e",
   "metadata": {},
   "outputs": [
    {
     "name": "stdout",
     "output_type": "stream",
     "text": [
      "0.2897769204046814\n"
     ]
    }
   ],
   "source": [
    "#calculating Compound Annual Growth Rate (CAGR)\n",
    "cagr = price_df.loc['2023-11-24', 'st_profit']**(252/len(price_df.index))-1\n",
    "# 2023-11-24 is the last day in the csv, 252 - working days\n",
    "print(cagr)"
   ]
  },
  {
   "cell_type": "code",
   "execution_count": 18,
   "id": "9f7ac401",
   "metadata": {},
   "outputs": [
    {
     "data": {
      "text/plain": [
       "<AxesSubplot:xlabel='Date'>"
      ]
     },
     "execution_count": 18,
     "metadata": {},
     "output_type": "execute_result"
    },
    {
     "data": {
      "image/png": "[encoded data removed]",
      "text/plain": [
       "<Figure size 432x288 with 1 Axes>"
      ]
     },
     "metadata": {
      "needs_background": "light"
     },
     "output_type": "display_data"
    }
   ],
   "source": [
    "#calculating maximum drawdown\n",
    "historical_max = price_df['Adj Close'].cummax()\n",
    "daily_drawdown = price_df['Adj Close'] / historical_max - 1\n",
    "dd = daily_drawdown.cummin()\n",
    "dd.plot()"
   ]
  },
  {
   "cell_type": "code",
   "execution_count": 21,
   "id": "45eae805",
   "metadata": {},
   "outputs": [
    {
     "name": "stdout",
     "output_type": "stream",
     "text": [
      "0.5833674722995268\n",
      "0.7308233953260788\n"
     ]
    }
   ],
   "source": [
    "#calculating volatile\n",
    "vol = np.std(price_df['daily_profit'] * np.sqrt(252))\n",
    "print(vol)\n",
    "\n",
    "#calulating sharpe\n",
    "sharpe = np.mean(price_df['daily_profit']) / np.std(price_df['daily_profit'])*np.sqrt(252)\n",
    "print(sharpe)"
   ]
  },
  {
   "cell_type": "code",
   "execution_count": 24,
   "id": "0954848e",
   "metadata": {},
   "outputs": [
    {
     "name": "stdout",
     "output_type": "stream",
     "text": [
      "cagr : 28.98 %\n",
      "mdd : 44.52 %\n",
      "vol : 58.34 %\n",
      "sharpe : 0.73\n"
     ]
    }
   ],
   "source": [
    "print('cagr :', round(cagr*100,2), '%')\n",
    "print('mdd :', round(dd.min()*100*-1,2), '%')\n",
    "print('vol :', round(vol*100,2), '%')\n",
    "print('sharpe :', round(sharpe,2))"
   ]
  }
 ],
 "metadata": {
  "kernelspec": {
   "display_name": "Python 3 (ipykernel)",
   "language": "python",
   "name": "python3"
  },
  "language_info": {
   "codemirror_mode": {
    "name": "ipython",
    "version": 3
   },
   "file_extension": ".py",
   "mimetype": "text/x-python",
   "name": "python",
   "nbconvert_exporter": "python",
   "pygments_lexer": "ipython3",
   "version": "3.9.12"
  }
 },
 "nbformat": 4,
 "nbformat_minor": 5
}
